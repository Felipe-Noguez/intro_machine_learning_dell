{
 "cells": [
  {
   "cell_type": "markdown",
   "metadata": {},
   "source": [
    "### Bibliotecas necessárias"
   ]
  },
  {
   "cell_type": "code",
   "execution_count": 1,
   "metadata": {},
   "outputs": [
    {
     "name": "stdout",
     "output_type": "stream",
     "text": [
      "Requirement already satisfied: nltk in c:\\users\\felip\\anaconda3\\lib\\site-packages (3.5)\n",
      "Requirement already satisfied: click in c:\\users\\felip\\anaconda3\\lib\\site-packages (from nltk) (7.1.2)\n",
      "Requirement already satisfied: regex in c:\\users\\felip\\anaconda3\\lib\\site-packages (from nltk) (2020.6.8)\n",
      "Requirement already satisfied: joblib in c:\\users\\felip\\anaconda3\\lib\\site-packages (from nltk) (0.16.0)\n",
      "Requirement already satisfied: tqdm in c:\\users\\felip\\anaconda3\\lib\\site-packages (from nltk) (4.47.0)\n"
     ]
    }
   ],
   "source": [
    "! pip install nltk"
   ]
  },
  {
   "cell_type": "code",
   "execution_count": 10,
   "metadata": {},
   "outputs": [],
   "source": [
    "import nltk\n",
    "from nltk import word_tokenize\n",
    "from sklearn.feature_extraction.text import TfidfVectorizer\n",
    "import pandas as pd"
   ]
  },
  {
   "cell_type": "markdown",
   "metadata": {},
   "source": [
    "### Pacotes necessários"
   ]
  },
  {
   "cell_type": "code",
   "execution_count": 3,
   "metadata": {},
   "outputs": [
    {
     "name": "stderr",
     "output_type": "stream",
     "text": [
      "[nltk_data] Downloading package stopwords to\n",
      "[nltk_data]     C:\\Users\\felip\\AppData\\Roaming\\nltk_data...\n",
      "[nltk_data]   Unzipping corpora\\stopwords.zip.\n",
      "[nltk_data] Downloading package punkt to\n",
      "[nltk_data]     C:\\Users\\felip\\AppData\\Roaming\\nltk_data...\n",
      "[nltk_data]   Unzipping tokenizers\\punkt.zip.\n"
     ]
    },
    {
     "data": {
      "text/plain": [
       "True"
      ]
     },
     "execution_count": 3,
     "metadata": {},
     "output_type": "execute_result"
    }
   ],
   "source": [
    "nltk.download('stopwords')\n",
    "nltk.download('punkt')"
   ]
  },
  {
   "cell_type": "markdown",
   "metadata": {},
   "source": [
    "Use a variável texto a seguir para identificar as stop words\n",
    "e após isso aplique o cáculo do **TF-IDF** neste mesmo texto e observe os scores."
   ]
  },
  {
   "cell_type": "markdown",
   "metadata": {},
   "source": [
    "**OBS:** Para realizar essa tarefa utilize os módulos estudados na aula"
   ]
  },
  {
   "cell_type": "code",
   "execution_count": 4,
   "metadata": {},
   "outputs": [],
   "source": [
    "texto = 'Um carro azul seguia rapidamente em uma rodovia, e ao passar por um buraco, o carro furou o pneu, e o motorista desceu do carro azul'"
   ]
  },
  {
   "cell_type": "code",
   "execution_count": 7,
   "metadata": {},
   "outputs": [],
   "source": [
    "#Obetendo stopwords para o idioma\n",
    "stopwords = nltk.corpus.stopwords.words('portuguese')"
   ]
  },
  {
   "cell_type": "code",
   "execution_count": 11,
   "metadata": {},
   "outputs": [],
   "source": [
    "#dividindo a frase em Tokens\n",
    "tokens = word_tokenize(texto)"
   ]
  },
  {
   "cell_type": "code",
   "execution_count": 13,
   "metadata": {},
   "outputs": [
    {
     "name": "stdout",
     "output_type": "stream",
     "text": [
      "Um\n",
      "carro\n",
      "azul\n",
      "seguia\n",
      "rapidamente\n",
      "rodovia\n",
      ",\n",
      "passar\n",
      "buraco\n",
      ",\n",
      "carro\n",
      "furou\n",
      "pneu\n",
      ",\n",
      "motorista\n",
      "desceu\n",
      "carro\n",
      "azul\n"
     ]
    }
   ],
   "source": [
    "#Exibindo os tokens\n",
    "for t in tokens:\n",
    "    if t not in stopwords:\n",
    "        print(t)"
   ]
  },
  {
   "cell_type": "code",
   "execution_count": 14,
   "metadata": {},
   "outputs": [],
   "source": [
    "#Instanciando método\n",
    "tf_idf = TfidfVectorizer()"
   ]
  },
  {
   "cell_type": "code",
   "execution_count": 15,
   "metadata": {},
   "outputs": [
    {
     "name": "stdout",
     "output_type": "stream",
     "text": [
      "  (0, 5)\t0.1796053020267749\n",
      "  (0, 4)\t0.1796053020267749\n",
      "  (0, 8)\t0.1796053020267749\n",
      "  (0, 10)\t0.1796053020267749\n",
      "  (0, 7)\t0.1796053020267749\n",
      "  (0, 2)\t0.1796053020267749\n",
      "  (0, 11)\t0.1796053020267749\n",
      "  (0, 9)\t0.1796053020267749\n",
      "  (0, 0)\t0.1796053020267749\n",
      "  (0, 13)\t0.1796053020267749\n",
      "  (0, 16)\t0.1796053020267749\n",
      "  (0, 6)\t0.1796053020267749\n",
      "  (0, 12)\t0.1796053020267749\n",
      "  (0, 14)\t0.1796053020267749\n",
      "  (0, 1)\t0.3592106040535498\n",
      "  (0, 3)\t0.5388159060803247\n",
      "  (0, 15)\t0.3592106040535498\n"
     ]
    }
   ],
   "source": [
    "#Retornando pontuação\n",
    "vetor = tf_idf.fit_transform([texto])\n",
    "print(vetor)"
   ]
  },
  {
   "cell_type": "code",
   "execution_count": 16,
   "metadata": {},
   "outputs": [
    {
     "name": "stdout",
     "output_type": "stream",
     "text": [
      "[[0.1796053  0.3592106  0.1796053  0.53881591 0.1796053  0.1796053\n",
      "  0.1796053  0.1796053  0.1796053  0.1796053  0.1796053  0.1796053\n",
      "  0.1796053  0.1796053  0.1796053  0.3592106  0.1796053 ]]\n"
     ]
    }
   ],
   "source": [
    "#Transformando em um array\n",
    "vetor = vetor.todense()\n",
    "print(vetor)"
   ]
  },
  {
   "cell_type": "code",
   "execution_count": 17,
   "metadata": {},
   "outputs": [],
   "source": [
    "#Obtenção das palavras mapeadas\n",
    "nomes = tf_idf.get_feature_names()"
   ]
  },
  {
   "cell_type": "code",
   "execution_count": 18,
   "metadata": {},
   "outputs": [
    {
     "name": "stdout",
     "output_type": "stream",
     "text": [
      "['ao', 'azul', 'buraco', 'carro', 'desceu', 'do', 'em', 'furou', 'motorista', 'passar', 'pneu', 'por', 'rapidamente', 'rodovia', 'seguia', 'um', 'uma']\n"
     ]
    }
   ],
   "source": [
    "print(nomes)"
   ]
  },
  {
   "cell_type": "code",
   "execution_count": 19,
   "metadata": {},
   "outputs": [
    {
     "name": "stdout",
     "output_type": "stream",
     "text": [
      "         ao      azul    buraco     carro    desceu        do        em  \\\n",
      "0  0.179605  0.359211  0.179605  0.538816  0.179605  0.179605  0.179605   \n",
      "\n",
      "      furou  motorista    passar      pneu       por  rapidamente   rodovia  \\\n",
      "0  0.179605   0.179605  0.179605  0.179605  0.179605     0.179605  0.179605   \n",
      "\n",
      "     seguia        um       uma  \n",
      "0  0.179605  0.359211  0.179605  \n"
     ]
    }
   ],
   "source": [
    "#Criando data frame para associar pontuação aos tokens\n",
    "df = pd.DataFrame(vetor, columns=nomes)\n",
    "print(df)"
   ]
  },
  {
   "cell_type": "code",
   "execution_count": null,
   "metadata": {},
   "outputs": [],
   "source": []
  }
 ],
 "metadata": {
  "kernelspec": {
   "display_name": "Python 3",
   "language": "python",
   "name": "python3"
  },
  "language_info": {
   "codemirror_mode": {
    "name": "ipython",
    "version": 3
   },
   "file_extension": ".py",
   "mimetype": "text/x-python",
   "name": "python",
   "nbconvert_exporter": "python",
   "pygments_lexer": "ipython3",
   "version": "3.8.3"
  }
 },
 "nbformat": 4,
 "nbformat_minor": 4
}
